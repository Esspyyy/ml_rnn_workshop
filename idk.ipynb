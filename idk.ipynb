{
 "cells": [
  {
   "cell_type": "markdown",
   "metadata": {},
   "source": [
    "---\n",
    "Now that you have learn how to caclulate let's see how the machine did :\n",
    "#### This is how a model will do ! we will understand all this code after"
   ]
  },
  {
   "cell_type": "code",
   "execution_count": null,
   "metadata": {},
   "outputs": [],
   "source": [
    "import torch\n",
    "import torch.nn as nn\n",
    "import torch.optim as optim\n",
    "\n",
    "# Define the input and target output\n",
    "N1 = torch.tensor([0.0, 1.0, 0.0, 1.0])\n",
    "N2 = torch.tensor([1.0, 0.0, 1.0, 0.0])\n",
    "\n",
    "# Initialize weights with requires_grad=True to compute gradients\n",
    "W1 = torch.randn(4, 4, requires_grad=True)\n",
    "\n",
    "# Define a simple model\n",
    "def model(N1, W1):\n",
    "    return N1 @ W1\n",
    "\n",
    "# Define a loss function (Mean Squared Error)\n",
    "loss_fn = nn.MSELoss()\n",
    "\n",
    "# Define an optimizer (Stochastic Gradient Descent)\n",
    "optimizer = optim.SGD([W1], lr=0.01)\n",
    "\n",
    "# Training loop to optimize W1\n",
    "for epoch in range(1000):\n",
    "    optimizer.zero_grad()\n",
    "    output = model(N1, W1)\n",
    "    loss = loss_fn(output, N2)\n",
    "    loss.backward()\n",
    "    optimizer.step()\n",
    "\n",
    "    # Optional: Print the loss every 100 epochs\n",
    "    if epoch % 100 == 0:\n",
    "        print(f'Epoch {epoch}, Loss: {loss}')\n",
    "\n",
    "# Display the optimized weights\n",
    "print(\"----------------------\")\n",
    "print(\"Optimized Weights (W1):\")\n",
    "print(W1)\n",
    "print(\"----------------------\")\n",
    "print(\"Final Output after training:\")\n",
    "print(model(N1, W1))\n"
   ]
  }
 ],
 "metadata": {
  "language_info": {
   "name": "python"
  }
 },
 "nbformat": 4,
 "nbformat_minor": 2
}
